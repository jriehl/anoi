{
 "cells": [
  {
   "cell_type": "code",
   "execution_count": null,
   "id": "3cc17dc8",
   "metadata": {},
   "outputs": [],
   "source": [
    "import os.path\n",
    "import pickle\n",
    "from lxml import etree\n",
    "import markdown as md\n",
    "import anoi\n",
    "from anoi import loaders, wordnet as wn\n",
    "from anoi.facade import get_facade\n",
    "import spacy"
   ]
  },
  {
   "cell_type": "code",
   "execution_count": null,
   "id": "1ce27e73",
   "metadata": {
    "scrolled": true
   },
   "outputs": [],
   "source": [
    "if os.path.exists('space.pkl'):\n",
    "    with open('space.pkl', 'rb') as pkl_fp:\n",
    "        space = pickle.load(pkl_fp)\n",
    "    facade = get_facade(space)\n",
    "    wordnet_namespace = facade.namespace\n",
    "else:\n",
    "    facade = get_facade()\n",
    "    wordnet_namespace = facade.namespace\n",
    "    with open('space.pkl', 'wb') as pkl_fp:\n",
    "        pickle.dump(wordnet_namespace.space, pkl_fp)"
   ]
  },
  {
   "cell_type": "code",
   "execution_count": null,
   "id": "e5a371c8",
   "metadata": {},
   "outputs": [],
   "source": [
    "article_namespace = anoi.basis.ANOINamespace(space, 'articles')\n",
    "mdl = loaders.ANOIMarkdownLoader(article_namespace)"
   ]
  },
  {
   "cell_type": "code",
   "execution_count": null,
   "id": "b9d590e9",
   "metadata": {},
   "outputs": [],
   "source": [
    "with open('../README.md') as fp:\n",
    "    readme_md = fp.read()\n",
    "    readme_struct = mdl.load(readme_md)\n",
    "    readme_elem = mdl.html"
   ]
  },
  {
   "cell_type": "code",
   "execution_count": null,
   "id": "bf9b5531",
   "metadata": {},
   "outputs": [],
   "source": [
    "nlp = spacy.load('en_core_web_trf')"
   ]
  },
  {
   "cell_type": "code",
   "execution_count": null,
   "id": "41e93396",
   "metadata": {},
   "outputs": [],
   "source": [
    "import dataclasses\n",
    "dataclasses.astuple(readme_struct)"
   ]
  },
  {
   "cell_type": "code",
   "execution_count": null,
   "id": "5219260e",
   "metadata": {},
   "outputs": [],
   "source": [
    "parent_property = loaders.article.make_parent_property(readme_struct)\n",
    "timestamp_property = loaders.article.make_timestamp_property(readme_struct)\n",
    "walk_article = loaders.article.walk_article\n",
    "\n",
    "for elem in walk_article(readme_struct):\n",
    "    if len(elem.children) > 0:\n",
    "        print('_' * 70)\n",
    "        print(elem.level, elem.elem.text)\n",
    "        parent = parent_property[elem]\n",
    "        if parent is not None:\n",
    "            print(parent.level, parent.elem.text)\n",
    "        else:\n",
    "            print(parent)\n",
    "        print(timestamp_property[elem])\n"
   ]
  },
  {
   "cell_type": "code",
   "execution_count": null,
   "id": "25dec9e6",
   "metadata": {},
   "outputs": [],
   "source": [
    "from spacy import displacy"
   ]
  },
  {
   "cell_type": "code",
   "execution_count": null,
   "id": "9efc90f8",
   "metadata": {},
   "outputs": [],
   "source": [
    "readme_text = '\\n'.join(e.elem.text.replace('\\n', ' ') for e in walk_article(readme_struct) if e.elem.text is not None)\n",
    "readme_doc = nlp(readme_text)"
   ]
  },
  {
   "cell_type": "code",
   "execution_count": null,
   "id": "bc16df83",
   "metadata": {},
   "outputs": [],
   "source": [
    "len(readme_doc)"
   ]
  },
  {
   "cell_type": "code",
   "execution_count": null,
   "id": "751c7c81",
   "metadata": {},
   "outputs": [],
   "source": [
    "tok0 = readme_doc[0]\n",
    "tok1 = readme_doc[1]\n",
    "tok2 = readme_doc[2]\n",
    "tok3 = readme_doc[3]\n",
    "toks = tok0, tok1, tok2, tok3\n",
    "[(tok.text, tok.lemma_) for tok in toks]"
   ]
  },
  {
   "cell_type": "code",
   "execution_count": null,
   "id": "53e18325",
   "metadata": {},
   "outputs": [],
   "source": [
    "readme_sents = list(readme_doc.sents)\n",
    "len(readme_sents), readme_sents[0]"
   ]
  },
  {
   "cell_type": "code",
   "execution_count": null,
   "id": "167b5206",
   "metadata": {},
   "outputs": [],
   "source": [
    "sent = readme_sents[0]\n",
    "displacy.render(sent, style='dep')"
   ]
  },
  {
   "cell_type": "code",
   "execution_count": null,
   "id": "a05101cd",
   "metadata": {},
   "outputs": [],
   "source": [
    "for index, token in enumerate(readme_sents[0]):\n",
    "    print(index, token.text, token.lemma_, token.pos_, token.tag_, token.dep_,\n",
    "            token.shape_, token.is_alpha, token.is_stop)\n",
    "    print()"
   ]
  },
  {
   "cell_type": "code",
   "execution_count": null,
   "id": "c5880dcc",
   "metadata": {},
   "outputs": [],
   "source": [
    "# Courtesy https://stackoverflow.com/questions/25698448/how-to-embed-html-into-ipython-output\n",
    "from IPython.core.display import display, HTML\n",
    "display_uid = lambda uid = anoi.basis.ANOIReserved.ROOT.value:display(HTML(data=facade.render_uid(uid)))"
   ]
  },
  {
   "cell_type": "code",
   "execution_count": null,
   "id": "94af3d59",
   "metadata": {},
   "outputs": [],
   "source": [
    "display_uid()"
   ]
  },
  {
   "cell_type": "code",
   "execution_count": null,
   "id": "97259cef",
   "metadata": {},
   "outputs": [],
   "source": [
    "type_ns = anoi.basis.anoi_types(facade.space)"
   ]
  },
  {
   "cell_type": "code",
   "execution_count": null,
   "id": "febaa509",
   "metadata": {},
   "outputs": [],
   "source": [
    "type_ns['STRING']"
   ]
  },
  {
   "cell_type": "code",
   "execution_count": null,
   "id": "4b756f8e",
   "metadata": {},
   "outputs": [],
   "source": [
    "display_uid(_18)"
   ]
  },
  {
   "cell_type": "code",
   "execution_count": null,
   "id": "a3f025e1",
   "metadata": {},
   "outputs": [],
   "source": [
    "display_uid(0x2d2b4f)"
   ]
  },
  {
   "cell_type": "code",
   "execution_count": null,
   "id": "a8e00e23",
   "metadata": {},
   "outputs": [],
   "source": [
    "'STRING' in type_ns"
   ]
  },
  {
   "cell_type": "code",
   "execution_count": null,
   "id": "401b14f1",
   "metadata": {},
   "outputs": [],
   "source": []
  }
 ],
 "metadata": {
  "kernelspec": {
   "display_name": "Python 3 (ipykernel)",
   "language": "python",
   "name": "python3"
  },
  "language_info": {
   "codemirror_mode": {
    "name": "ipython",
    "version": 3
   },
   "file_extension": ".py",
   "mimetype": "text/x-python",
   "name": "python",
   "nbconvert_exporter": "python",
   "pygments_lexer": "ipython3",
   "version": "3.9.7"
  }
 },
 "nbformat": 4,
 "nbformat_minor": 5
}
