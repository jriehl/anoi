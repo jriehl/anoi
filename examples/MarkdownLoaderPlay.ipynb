{
 "cells": [
  {
   "cell_type": "code",
   "execution_count": 1,
   "id": "3cc17dc8",
   "metadata": {},
   "outputs": [],
   "source": [
    "import os.path\n",
    "import pickle\n",
    "from lxml import etree\n",
    "import markdown as md\n",
    "import anoi\n",
    "from anoi import loaders, wordnet as wn\n",
    "from anoi.facade import get_facade\n",
    "import spacy"
   ]
  },
  {
   "cell_type": "code",
   "execution_count": 2,
   "id": "1ce27e73",
   "metadata": {
    "scrolled": true
   },
   "outputs": [
    {
     "name": "stdout",
     "output_type": "stream",
     "text": [
      "<anoi.basis.ANOIInMemorySpace object at 0x10590a0a0>\n"
     ]
    }
   ],
   "source": [
    "if os.path.exists('space.pkl'):\n",
    "    with open('space.pkl', 'rb') as pkl_fp:\n",
    "        space = pickle.load(pkl_fp)\n",
    "    facade = get_facade(space)\n",
    "    wordnet_namespace = facade.namespace\n",
    "else:\n",
    "    facade = get_facade()\n",
    "    wordnet_namespace = facade.namespace\n",
    "    with open('space.pkl', 'wb') as pkl_fp:\n",
    "        pickle.dump(wordnet_namespace.space, pkl_fp)"
   ]
  },
  {
   "cell_type": "code",
   "execution_count": 3,
   "id": "e5a371c8",
   "metadata": {},
   "outputs": [],
   "source": [
    "article_namespace = anoi.basis.ANOINamespace(space, 'articles')\n",
    "mdl = loaders.ANOIMarkdownLoader(article_namespace)"
   ]
  },
  {
   "cell_type": "code",
   "execution_count": 4,
   "id": "b9d590e9",
   "metadata": {},
   "outputs": [],
   "source": [
    "with open('../README.md') as fp:\n",
    "    readme_md = fp.read()\n",
    "    readme_struct = mdl.load(readme_md)\n",
    "    readme_elem = mdl.html"
   ]
  },
  {
   "cell_type": "code",
   "execution_count": 5,
   "id": "bf9b5531",
   "metadata": {},
   "outputs": [],
   "source": [
    "nlp = spacy.load('en_core_web_trf')"
   ]
  },
  {
   "cell_type": "code",
   "execution_count": 6,
   "id": "41e93396",
   "metadata": {},
   "outputs": [
    {
     "data": {
      "text/plain": [
       "(0,\n",
       " <Element html at 0x10593b880>,\n",
       " ((0, <Element body at 0x10597e640>, ()),\n",
       "  (1,\n",
       "   <Element h1 at 0x10597e580>,\n",
       "   ((1, <Element p at 0x14ad6a540>, ()),\n",
       "    (2, <Element h2 at 0x2bb375c40>, ((2, <Element p at 0x2bb375c00>, ()),)),\n",
       "    (2,\n",
       "     <Element h2 at 0x2bb3b5300>,\n",
       "     ((3,\n",
       "       <Element h3 at 0x2bb3b5380>,\n",
       "       ((3, <Element p at 0x2bb3b5440>, ()),\n",
       "        (4,\n",
       "         <Element h4 at 0x2bb3b54c0>,\n",
       "         ((4, <Element ul at 0x2bb3b5540>, ()),)))),\n",
       "      (3,\n",
       "       <Element h3 at 0x2bb3b5600>,\n",
       "       ((3, <Element p at 0x10593b300>, ()),\n",
       "        (3, <Element p at 0x2bb3b56c0>, ()))),\n",
       "      (3,\n",
       "       <Element h3 at 0x2bb3b5780>,\n",
       "       ((3, <Element p at 0x2bb3b5f80>, ()),\n",
       "        (3, <Element p at 0x2bb3b5f00>, ()))),\n",
       "      (3,\n",
       "       <Element h3 at 0x2bb3b5e40>,\n",
       "       ((3, <Element p at 0x2bb3b5dc0>, ()),\n",
       "        (4,\n",
       "         <Element h4 at 0x2bb3b5d40>,\n",
       "         ((4, <Element ul at 0x2bb3b5cc0>, ()),)))))),\n",
       "    (2, <Element h2 at 0x2bb3b5b40>, ((2, <Element p at 0x2bb3b5bc0>, ()),)),\n",
       "    (2, <Element h2 at 0x2bb3b5c80>, ((2, <Element ul at 0x14b57eb00>, ()),)),\n",
       "    (2,\n",
       "     <Element h2 at 0x2bb3b5ac0>,\n",
       "     ((3,\n",
       "       <Element h3 at 0x2bb3b5880>,\n",
       "       ((3, <Element p at 0x2bb3b5980>, ()),\n",
       "        (3, <Element ul at 0x2bb396100>, ()),\n",
       "        (3, <Element p at 0x2bb3b5a80>, ()),\n",
       "        (3, <Element p at 0x2bb3b57c0>, ()),\n",
       "        (3, <Element p at 0x2bb3b5840>, ()),\n",
       "        (3, <Element p at 0x14b8dfd40>, ()),\n",
       "        (3, <Element p at 0x14b8df700>, ()),\n",
       "        (3, <Element p at 0x14b8df640>, ()),\n",
       "        (3, <Element p at 0x14b8df780>, ()))),\n",
       "      (3,\n",
       "       <Element h3 at 0x14b8dfa80>,\n",
       "       ((3, <Element p at 0x14b8df140>, ()),\n",
       "        (3, <Element p at 0x14b8df580>, ()),\n",
       "        (3, <Element p at 0x14b8e1dc0>, ()),\n",
       "        (3, <Element p at 0x14b8cbf00>, ()))),\n",
       "      (3,\n",
       "       <Element h3 at 0x14b8cb080>,\n",
       "       ((3, <Element p at 0x2bb3bb940>, ()),\n",
       "        (3, <Element ol at 0x2bb3bb140>, ()),\n",
       "        (4,\n",
       "         <Element h4 at 0x2bb3bb240>,\n",
       "         ((4, <Element ul at 0x2bb3bb340>, ()),\n",
       "          (4, <Element p at 0x2bb3bb440>, ()),\n",
       "          (4, <Element p at 0x2bb3bb540>, ()))))),\n",
       "      (3,\n",
       "       <Element h3 at 0x2bb3bb740>,\n",
       "       ((3, <Element p at 0x2bb3bb840>, ()),\n",
       "        (3, <Element p at 0x2bb3bb880>, ()))),\n",
       "      (3,\n",
       "       <Element h3 at 0x2bb3bb680>,\n",
       "       ((3, <Element p at 0x2bb3bb700>, ()),\n",
       "        (3, <Element p at 0x2bb3bb500>, ()))),\n",
       "      (3,\n",
       "       <Element h3 at 0x2bb3bb380>,\n",
       "       ((3, <Element p at 0x2bb3bb280>, ()),\n",
       "        (3, <Element p at 0x2bb3bb180>, ()))),\n",
       "      (3,\n",
       "       <Element h3 at 0x2bb3bb040>,\n",
       "       ((3, <Element p at 0x2bb3bb980>, ()),\n",
       "        (3, <Element ul at 0x2bb3bb0c0>, ()),\n",
       "        (3, <Element p at 0x2bb3bbf00>, ()),\n",
       "        (3, <Element p at 0x2bb3bbf80>, ()),\n",
       "        (3, <Element p at 0x2bb3bbd80>, ()))),\n",
       "      (3,\n",
       "       <Element h3 at 0x2bb3bbe00>,\n",
       "       ((3, <Element p at 0x2bb3bbe80>, ()),\n",
       "        (3, <Element p at 0x2bb3bbc80>, ()),\n",
       "        (3, <Element ul at 0x2bb3bbac0>, ())))))))))"
      ]
     },
     "execution_count": 6,
     "metadata": {},
     "output_type": "execute_result"
    }
   ],
   "source": [
    "import dataclasses\n",
    "dataclasses.astuple(readme_struct)"
   ]
  },
  {
   "cell_type": "code",
   "execution_count": 7,
   "id": "5219260e",
   "metadata": {},
   "outputs": [
    {
     "name": "stdout",
     "output_type": "stream",
     "text": [
      "______________________________________________________________________\n",
      "0 None\n",
      "None\n",
      "None\n",
      "______________________________________________________________________\n",
      "1 A Network of Ideas\n",
      "0 None\n",
      "None\n",
      "______________________________________________________________________\n",
      "2 ANOI Web Application\n",
      "1 A Network of Ideas\n",
      "None\n",
      "______________________________________________________________________\n",
      "2 ANOI Design\n",
      "1 A Network of Ideas\n",
      "None\n",
      "______________________________________________________________________\n",
      "3 Types\n",
      "2 ANOI Design\n",
      "None\n",
      "______________________________________________________________________\n",
      "4 Properties\n",
      "3 Types\n",
      "None\n",
      "______________________________________________________________________\n",
      "3 Strings\n",
      "2 ANOI Design\n",
      "None\n",
      "______________________________________________________________________\n",
      "3 Media\n",
      "2 ANOI Design\n",
      "None\n",
      "______________________________________________________________________\n",
      "3 Articles\n",
      "2 ANOI Design\n",
      "None\n",
      "______________________________________________________________________\n",
      "4 Article Creation Workflow\n",
      "3 Articles\n",
      "None\n",
      "______________________________________________________________________\n",
      "2 Design Internals\n",
      "1 A Network of Ideas\n",
      "None\n",
      "______________________________________________________________________\n",
      "2 TODO's\n",
      "1 A Network of Ideas\n",
      "None\n",
      "______________________________________________________________________\n",
      "2 Notes\n",
      "1 A Network of Ideas\n",
      "None\n",
      "______________________________________________________________________\n",
      "3 2021.10.21\n",
      "2 Notes\n",
      "2021-10-21 00:00:00\n",
      "______________________________________________________________________\n",
      "3 2021.10.24\n",
      "2 Notes\n",
      "2021-10-24 00:00:00\n",
      "______________________________________________________________________\n",
      "3 2021.10.27\n",
      "2 Notes\n",
      "2021-10-27 00:00:00\n",
      "______________________________________________________________________\n",
      "4 Aside:\n",
      "3 2021.10.27\n",
      "2021-10-27 00:00:00\n",
      "______________________________________________________________________\n",
      "3 2021.11.04\n",
      "2 Notes\n",
      "2021-11-04 00:00:00\n",
      "______________________________________________________________________\n",
      "3 2021.12.16\n",
      "2 Notes\n",
      "2021-12-16 00:00:00\n",
      "______________________________________________________________________\n",
      "3 2021.12.20\n",
      "2 Notes\n",
      "2021-12-20 00:00:00\n",
      "______________________________________________________________________\n",
      "3 2022.01.17\n",
      "2 Notes\n",
      "2022-01-17 00:00:00\n",
      "______________________________________________________________________\n",
      "3 2022.03.23\n",
      "2 Notes\n",
      "2022-03-23 00:00:00\n"
     ]
    }
   ],
   "source": [
    "parent_property = loaders.article.make_parent_property(readme_struct)\n",
    "timestamp_property = loaders.article.make_timestamp_property(readme_struct)\n",
    "walk_article = loaders.article.walk_article\n",
    "\n",
    "for elem in walk_article(readme_struct):\n",
    "    if len(elem.children) > 0:\n",
    "        print('_' * 70)\n",
    "        print(elem.level, elem.elem.text)\n",
    "        parent = parent_property[elem]\n",
    "        if parent is not None:\n",
    "            print(parent.level, parent.elem.text)\n",
    "        else:\n",
    "            print(parent)\n",
    "        print(timestamp_property[elem])\n"
   ]
  },
  {
   "cell_type": "code",
   "execution_count": 8,
   "id": "25dec9e6",
   "metadata": {},
   "outputs": [],
   "source": [
    "from spacy import displacy"
   ]
  },
  {
   "cell_type": "code",
   "execution_count": 9,
   "id": "9efc90f8",
   "metadata": {},
   "outputs": [
    {
     "name": "stderr",
     "output_type": "stream",
     "text": [
      "/Users/jon/miniforge3/envs/anoi/lib/python3.9/site-packages/torch/autocast_mode.py:141: UserWarning: User provided device_type of 'cuda', but CUDA is not available. Disabling\n",
      "  warnings.warn('User provided device_type of \\'cuda\\', but CUDA is not available. Disabling')\n"
     ]
    }
   ],
   "source": [
    "readme_text = '\\n'.join(e.elem.text.replace('\\n', ' ') for e in walk_article(readme_struct) if e.elem.text is not None)\n",
    "readme_doc = nlp(readme_text)"
   ]
  },
  {
   "cell_type": "code",
   "execution_count": 10,
   "id": "bc16df83",
   "metadata": {},
   "outputs": [
    {
     "data": {
      "text/plain": [
       "1323"
      ]
     },
     "execution_count": 10,
     "metadata": {},
     "output_type": "execute_result"
    }
   ],
   "source": [
    "len(readme_doc)"
   ]
  },
  {
   "cell_type": "code",
   "execution_count": 11,
   "id": "751c7c81",
   "metadata": {},
   "outputs": [
    {
     "data": {
      "text/plain": [
       "[('A', 'a'), ('Network', 'Network'), ('of', 'of'), ('Ideas', 'Ideas')]"
      ]
     },
     "execution_count": 11,
     "metadata": {},
     "output_type": "execute_result"
    }
   ],
   "source": [
    "tok0 = readme_doc[0]\n",
    "tok1 = readme_doc[1]\n",
    "tok2 = readme_doc[2]\n",
    "tok3 = readme_doc[3]\n",
    "toks = tok0, tok1, tok2, tok3\n",
    "[(tok.text, tok.lemma_) for tok in toks]"
   ]
  },
  {
   "cell_type": "code",
   "execution_count": 12,
   "id": "53e18325",
   "metadata": {},
   "outputs": [
    {
     "data": {
      "text/plain": [
       "(69, A Network of Ideas)"
      ]
     },
     "execution_count": 12,
     "metadata": {},
     "output_type": "execute_result"
    }
   ],
   "source": [
    "readme_sents = list(readme_doc.sents)\n",
    "len(readme_sents), readme_sents[0]"
   ]
  },
  {
   "cell_type": "code",
   "execution_count": 13,
   "id": "167b5206",
   "metadata": {},
   "outputs": [
    {
     "data": {
      "text/html": [
       "<span class=\"tex2jax_ignore\"><svg xmlns=\"http://www.w3.org/2000/svg\" xmlns:xlink=\"http://www.w3.org/1999/xlink\" xml:lang=\"en\" id=\"e7bd0082a8fe4ea09ba6119772eeab96-0\" class=\"displacy\" width=\"750\" height=\"224.5\" direction=\"ltr\" style=\"max-width: none; height: 224.5px; color: #000000; background: #ffffff; font-family: Arial; direction: ltr\">\n",
       "<text class=\"displacy-token\" fill=\"currentColor\" text-anchor=\"middle\" y=\"134.5\">\n",
       "    <tspan class=\"displacy-word\" fill=\"currentColor\" x=\"50\">A</tspan>\n",
       "    <tspan class=\"displacy-tag\" dy=\"2em\" fill=\"currentColor\" x=\"50\">DET</tspan>\n",
       "</text>\n",
       "\n",
       "<text class=\"displacy-token\" fill=\"currentColor\" text-anchor=\"middle\" y=\"134.5\">\n",
       "    <tspan class=\"displacy-word\" fill=\"currentColor\" x=\"225\">Network</tspan>\n",
       "    <tspan class=\"displacy-tag\" dy=\"2em\" fill=\"currentColor\" x=\"225\">PROPN</tspan>\n",
       "</text>\n",
       "\n",
       "<text class=\"displacy-token\" fill=\"currentColor\" text-anchor=\"middle\" y=\"134.5\">\n",
       "    <tspan class=\"displacy-word\" fill=\"currentColor\" x=\"400\">of</tspan>\n",
       "    <tspan class=\"displacy-tag\" dy=\"2em\" fill=\"currentColor\" x=\"400\">ADP</tspan>\n",
       "</text>\n",
       "\n",
       "<text class=\"displacy-token\" fill=\"currentColor\" text-anchor=\"middle\" y=\"134.5\">\n",
       "    <tspan class=\"displacy-word\" fill=\"currentColor\" x=\"575\">Ideas</tspan>\n",
       "    <tspan class=\"displacy-tag\" dy=\"2em\" fill=\"currentColor\" x=\"575\">PROPN</tspan>\n",
       "</text>\n",
       "\n",
       "<g class=\"displacy-arrow\">\n",
       "    <path class=\"displacy-arc\" id=\"arrow-e7bd0082a8fe4ea09ba6119772eeab96-0-0\" stroke-width=\"2px\" d=\"M70,89.5 C70,2.0 225.0,2.0 225.0,89.5\" fill=\"none\" stroke=\"currentColor\"/>\n",
       "    <text dy=\"1.25em\" style=\"font-size: 0.8em; letter-spacing: 1px\">\n",
       "        <textPath xlink:href=\"#arrow-e7bd0082a8fe4ea09ba6119772eeab96-0-0\" class=\"displacy-label\" startOffset=\"50%\" side=\"left\" fill=\"currentColor\" text-anchor=\"middle\">det</textPath>\n",
       "    </text>\n",
       "    <path class=\"displacy-arrowhead\" d=\"M70,91.5 L62,79.5 78,79.5\" fill=\"currentColor\"/>\n",
       "</g>\n",
       "\n",
       "<g class=\"displacy-arrow\">\n",
       "    <path class=\"displacy-arc\" id=\"arrow-e7bd0082a8fe4ea09ba6119772eeab96-0-1\" stroke-width=\"2px\" d=\"M245,89.5 C245,2.0 400.0,2.0 400.0,89.5\" fill=\"none\" stroke=\"currentColor\"/>\n",
       "    <text dy=\"1.25em\" style=\"font-size: 0.8em; letter-spacing: 1px\">\n",
       "        <textPath xlink:href=\"#arrow-e7bd0082a8fe4ea09ba6119772eeab96-0-1\" class=\"displacy-label\" startOffset=\"50%\" side=\"left\" fill=\"currentColor\" text-anchor=\"middle\">prep</textPath>\n",
       "    </text>\n",
       "    <path class=\"displacy-arrowhead\" d=\"M400.0,91.5 L408.0,79.5 392.0,79.5\" fill=\"currentColor\"/>\n",
       "</g>\n",
       "\n",
       "<g class=\"displacy-arrow\">\n",
       "    <path class=\"displacy-arc\" id=\"arrow-e7bd0082a8fe4ea09ba6119772eeab96-0-2\" stroke-width=\"2px\" d=\"M420,89.5 C420,2.0 575.0,2.0 575.0,89.5\" fill=\"none\" stroke=\"currentColor\"/>\n",
       "    <text dy=\"1.25em\" style=\"font-size: 0.8em; letter-spacing: 1px\">\n",
       "        <textPath xlink:href=\"#arrow-e7bd0082a8fe4ea09ba6119772eeab96-0-2\" class=\"displacy-label\" startOffset=\"50%\" side=\"left\" fill=\"currentColor\" text-anchor=\"middle\">pobj</textPath>\n",
       "    </text>\n",
       "    <path class=\"displacy-arrowhead\" d=\"M575.0,91.5 L583.0,79.5 567.0,79.5\" fill=\"currentColor\"/>\n",
       "</g>\n",
       "</svg></span>"
      ],
      "text/plain": [
       "<IPython.core.display.HTML object>"
      ]
     },
     "metadata": {},
     "output_type": "display_data"
    }
   ],
   "source": [
    "sent = readme_sents[0]\n",
    "displacy.render(sent, style='dep')"
   ]
  },
  {
   "cell_type": "code",
   "execution_count": 14,
   "id": "a05101cd",
   "metadata": {},
   "outputs": [
    {
     "name": "stdout",
     "output_type": "stream",
     "text": [
      "0 A a DET DT det X True True\n",
      "\n",
      "1 Network Network PROPN NNP ROOT Xxxxx True False\n",
      "\n",
      "2 of of ADP IN prep xx True True\n",
      "\n",
      "3 Ideas Ideas PROPN NNPS pobj Xxxxx True False\n",
      "\n"
     ]
    }
   ],
   "source": [
    "for index, token in enumerate(readme_sents[0]):\n",
    "    print(index, token.text, token.lemma_, token.pos_, token.tag_, token.dep_,\n",
    "            token.shape_, token.is_alpha, token.is_stop)\n",
    "    print()"
   ]
  },
  {
   "cell_type": "code",
   "execution_count": 24,
   "id": "c5880dcc",
   "metadata": {},
   "outputs": [],
   "source": [
    "# Courtesy https://stackoverflow.com/questions/25698448/how-to-embed-html-into-ipython-output\n",
    "from IPython.core.display import display, HTML\n",
    "display_uid = lambda uid = anoi.basis.ANOIReserved.ROOT.value:display(HTML(data=facade.render_uid(uid)))"
   ]
  },
  {
   "cell_type": "code",
   "execution_count": 25,
   "id": "94af3d59",
   "metadata": {},
   "outputs": [
    {
     "data": {
      "text/html": [
       "<!DOCTYPE html>\n",
       "<html>\n",
       "  <head>\n",
       "    <meta charset=\"utf-8\">\n",
       "    <title>UID 57344 (0xe000)</title>\n",
       "  </head>\n",
       "  <body>\n",
       "    <h1>UID 57344 (0xe000)</h1>\n",
       "    <ul><li>\"M\" : <a href=\"0x11000f\">0x11000f</a></li><li>\"N\" : <a href=\"0x110000\">MIN_UNRESERVED</a></li><li>\"P\" : <a href=\"0x110007\">0x110007</a></li><li>\"R\" : <a href=\"0x110003\">0x110003</a></li><li>\"T\" : <a href=\"0x110022\">0x110022</a></li><li>\"a\" : <a href=\"0x2d2b46\">0x2d2b46</a></li><li>\"w\" : <a href=\"0x110038\">0x110038</a></li><li><a href=\"0xe000\">ROOT</a> : <a href=\"0x110006\">0x110006</a></li></ul>\n",
       "    <p></p>\n",
       "  </body>\n",
       "</html>\n"
      ],
      "text/plain": [
       "<IPython.core.display.HTML object>"
      ]
     },
     "metadata": {},
     "output_type": "display_data"
    }
   ],
   "source": [
    "display_uid()"
   ]
  },
  {
   "cell_type": "code",
   "execution_count": null,
   "id": "97259cef",
   "metadata": {},
   "outputs": [],
   "source": []
  }
 ],
 "metadata": {
  "kernelspec": {
   "display_name": "Python 3 (ipykernel)",
   "language": "python",
   "name": "python3"
  },
  "language_info": {
   "codemirror_mode": {
    "name": "ipython",
    "version": 3
   },
   "file_extension": ".py",
   "mimetype": "text/x-python",
   "name": "python",
   "nbconvert_exporter": "python",
   "pygments_lexer": "ipython3",
   "version": "3.9.7"
  }
 },
 "nbformat": 4,
 "nbformat_minor": 5
}
