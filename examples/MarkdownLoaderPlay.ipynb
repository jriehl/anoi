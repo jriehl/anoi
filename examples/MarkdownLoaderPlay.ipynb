{
 "cells": [
  {
   "cell_type": "code",
   "execution_count": 1,
   "id": "3cc17dc8",
   "metadata": {},
   "outputs": [],
   "source": [
    "from lxml import etree\n",
    "import markdown as md\n",
    "import anoi\n",
    "from anoi import loaders, wordnet as wn\n",
    "import spacy"
   ]
  },
  {
   "cell_type": "code",
   "execution_count": 2,
   "id": "1ce27e73",
   "metadata": {
    "scrolled": true
   },
   "outputs": [],
   "source": [
    "wordnet_namespace = wn.main()\n",
    "space = wordnet_namespace.space"
   ]
  },
  {
   "cell_type": "code",
   "execution_count": 3,
   "id": "e5a371c8",
   "metadata": {},
   "outputs": [],
   "source": [
    "article_namespace = anoi.basis.ANOINamespace(space, 'articles')\n",
    "mdl = loaders.ANOIMarkdownLoader(article_namespace)"
   ]
  },
  {
   "cell_type": "code",
   "execution_count": 5,
   "id": "b9d590e9",
   "metadata": {},
   "outputs": [],
   "source": [
    "with open('../README.md') as fp:\n",
    "    readme_md = fp.read()\n",
    "    readme_struct = mdl.load(readme_md)\n",
    "    readme_elem = mdl.html"
   ]
  },
  {
   "cell_type": "code",
   "execution_count": 6,
   "id": "bf9b5531",
   "metadata": {},
   "outputs": [],
   "source": [
    "nlp = spacy.load('en_core_web_trf')"
   ]
  },
  {
   "cell_type": "code",
   "execution_count": 7,
   "id": "41e93396",
   "metadata": {},
   "outputs": [
    {
     "data": {
      "text/plain": [
       "(0,\n",
       " <Element html at 0x290d0cfc0>,\n",
       " ((0, <Element body at 0x2b6d816c0>, ()),\n",
       "  (1,\n",
       "   <Element h1 at 0x10390c300>,\n",
       "   ((1, <Element p at 0x2a0e52b00>, ()),\n",
       "    (2, <Element h2 at 0x2a0f47d00>, ((2, <Element p at 0x2a0e01f80>, ()),)),\n",
       "    (2,\n",
       "     <Element h2 at 0x2a0e75a00>,\n",
       "     ((3,\n",
       "       <Element h3 at 0x1037c4fc0>,\n",
       "       ((3, <Element p at 0x2a10cf040>, ()),\n",
       "        (4,\n",
       "         <Element h4 at 0x2a0e09780>,\n",
       "         ((4, <Element ul at 0x2a10b1d80>, ()),)))),\n",
       "      (3,\n",
       "       <Element h3 at 0x2a107a500>,\n",
       "       ((3, <Element p at 0x2a10ad3c0>, ()),\n",
       "        (3, <Element p at 0x2a10ef040>, ()))),\n",
       "      (3,\n",
       "       <Element h3 at 0x2a0b90900>,\n",
       "       ((3, <Element p at 0x2a0b904c0>, ()),\n",
       "        (3, <Element p at 0x2a0f31e40>, ()))),\n",
       "      (3,\n",
       "       <Element h3 at 0x2a0b94100>,\n",
       "       ((3, <Element p at 0x11e8dd900>, ()),\n",
       "        (4,\n",
       "         <Element h4 at 0x11e8dd7c0>,\n",
       "         ((4, <Element ul at 0x2a0e645c0>, ()),)))))),\n",
       "    (2, <Element h2 at 0x2a0f2cec0>, ((2, <Element p at 0x2a0ba6880>, ()),)),\n",
       "    (2, <Element h2 at 0x2a0bab6c0>, ((2, <Element ul at 0x2a0f28e80>, ()),)),\n",
       "    (2,\n",
       "     <Element h2 at 0x2a0f28040>,\n",
       "     ((3,\n",
       "       <Element h3 at 0x2a0baf600>,\n",
       "       ((3, <Element p at 0x2a0eae200>, ()),\n",
       "        (3, <Element ul at 0x2a0ea9dc0>, ()),\n",
       "        (3, <Element p at 0x2a0ea97c0>, ()),\n",
       "        (3, <Element p at 0x2a0bbd140>, ()),\n",
       "        (3, <Element p at 0x2a0bbd780>, ()),\n",
       "        (3, <Element p at 0x2a0ea6280>, ()),\n",
       "        (3, <Element p at 0x2a0bc1500>, ()),\n",
       "        (3, <Element p at 0x2a0bc1e40>, ()),\n",
       "        (3, <Element p at 0x2a0fddbc0>, ()))),\n",
       "      (3,\n",
       "       <Element h3 at 0x2a0bc5380>,\n",
       "       ((3, <Element p at 0x2a0bc5b40>, ()),\n",
       "        (3, <Element p at 0x2a1028600>, ()),\n",
       "        (3, <Element p at 0x2a0bcabc0>, ()),\n",
       "        (3, <Element p at 0x2a0fc5540>, ()))),\n",
       "      (3,\n",
       "       <Element h3 at 0x2a0bd2a00>,\n",
       "       ((3, <Element p at 0x2a0bdc580>, ()),\n",
       "        (3, <Element ol at 0x2a0ffc700>, ()),\n",
       "        (4,\n",
       "         <Element h4 at 0x2a10c6540>,\n",
       "         ((4, <Element ul at 0x2a10c6e00>, ()),\n",
       "          (4, <Element p at 0x2a0de0380>, ()),\n",
       "          (4, <Element p at 0x2a0fb6380>, ()))))),\n",
       "      (3,\n",
       "       <Element h3 at 0x2a0e191c0>,\n",
       "       ((3, <Element p at 0x2a0fc8c00>, ()),\n",
       "        (3, <Element p at 0x2a0e20e00>, ()))),\n",
       "      (3,\n",
       "       <Element h3 at 0x2a0e2d780>,\n",
       "       ((3, <Element p at 0x2a0fa4b00>, ()),\n",
       "        (3, <Element p at 0x2a109aac0>, ()))),\n",
       "      (3,\n",
       "       <Element h3 at 0x2a0e32980>,\n",
       "       ((3, <Element p at 0x2a0e49100>, ()),\n",
       "        (3, <Element p at 0x10380e480>, ()))),\n",
       "      (3,\n",
       "       <Element h3 at 0x2a0dfca40>,\n",
       "       ((3, <Element p at 0x2a0e3e800>, ()),\n",
       "        (3, <Element ul at 0x2a0e3ec40>, ()),\n",
       "        (3, <Element p at 0x2a0b3ee00>, ()),\n",
       "        (3, <Element p at 0x2a0b3e040>, ()),\n",
       "        (3, <Element p at 0x2a0f3af00>, ()))),\n",
       "      (3,\n",
       "       <Element h3 at 0x2a0b43400>,\n",
       "       ((3, <Element p at 0x2a0b43d40>, ()),\n",
       "        (3, <Element p at 0x2a1063040>, ()),\n",
       "        (3, <Element ul at 0x2a1063f40>, ())))))))))"
      ]
     },
     "execution_count": 7,
     "metadata": {},
     "output_type": "execute_result"
    }
   ],
   "source": [
    "import dataclasses\n",
    "dataclasses.astuple(readme_struct)"
   ]
  },
  {
   "cell_type": "code",
   "execution_count": 12,
   "id": "5219260e",
   "metadata": {},
   "outputs": [
    {
     "name": "stdout",
     "output_type": "stream",
     "text": [
      "______________________________________________________________________\n",
      "0 None\n",
      "None\n",
      "None\n",
      "______________________________________________________________________\n",
      "1 A Network of Ideas\n",
      "0 None\n",
      "None\n",
      "______________________________________________________________________\n",
      "2 ANOI Web Application\n",
      "1 A Network of Ideas\n",
      "None\n",
      "______________________________________________________________________\n",
      "2 ANOI Design\n",
      "1 A Network of Ideas\n",
      "None\n",
      "______________________________________________________________________\n",
      "3 Types\n",
      "2 ANOI Design\n",
      "None\n",
      "______________________________________________________________________\n",
      "4 Properties\n",
      "3 Types\n",
      "None\n",
      "______________________________________________________________________\n",
      "3 Strings\n",
      "2 ANOI Design\n",
      "None\n",
      "______________________________________________________________________\n",
      "3 Media\n",
      "2 ANOI Design\n",
      "None\n",
      "______________________________________________________________________\n",
      "3 Articles\n",
      "2 ANOI Design\n",
      "None\n",
      "______________________________________________________________________\n",
      "4 Article Creation Workflow\n",
      "3 Articles\n",
      "None\n",
      "______________________________________________________________________\n",
      "2 Design Internals\n",
      "1 A Network of Ideas\n",
      "None\n",
      "______________________________________________________________________\n",
      "2 TODO's\n",
      "1 A Network of Ideas\n",
      "None\n",
      "______________________________________________________________________\n",
      "2 Notes\n",
      "1 A Network of Ideas\n",
      "None\n",
      "______________________________________________________________________\n",
      "3 2021.10.21\n",
      "2 Notes\n",
      "2021-10-21 00:00:00\n",
      "______________________________________________________________________\n",
      "3 2021.10.24\n",
      "2 Notes\n",
      "2021-10-24 00:00:00\n",
      "______________________________________________________________________\n",
      "3 2021.10.27\n",
      "2 Notes\n",
      "2021-10-27 00:00:00\n",
      "______________________________________________________________________\n",
      "4 Aside:\n",
      "3 2021.10.27\n",
      "2021-10-27 00:00:00\n",
      "______________________________________________________________________\n",
      "3 2021.11.04\n",
      "2 Notes\n",
      "2021-11-04 00:00:00\n",
      "______________________________________________________________________\n",
      "3 2021.12.16\n",
      "2 Notes\n",
      "2021-12-16 00:00:00\n",
      "______________________________________________________________________\n",
      "3 2021.12.20\n",
      "2 Notes\n",
      "2021-12-20 00:00:00\n",
      "______________________________________________________________________\n",
      "3 2022.01.17\n",
      "2 Notes\n",
      "2022-01-17 00:00:00\n",
      "______________________________________________________________________\n",
      "3 2022.03.23\n",
      "2 Notes\n",
      "2022-03-23 00:00:00\n"
     ]
    }
   ],
   "source": [
    "parent_property = loaders.article.make_parent_property(readme_struct)\n",
    "timestamp_property = loaders.article.make_timestamp_property(readme_struct)\n",
    "walk_article = loaders.article.walk_article\n",
    "\n",
    "for elem in walk_article(readme_struct):\n",
    "    if len(elem.children) > 0:\n",
    "        print('_' * 70)\n",
    "        print(elem.level, elem.elem.text)\n",
    "        parent = parent_property[elem]\n",
    "        if parent is not None:\n",
    "            print(parent.level, parent.elem.text)\n",
    "        else:\n",
    "            print(parent)\n",
    "        print(timestamp_property[elem])\n"
   ]
  },
  {
   "cell_type": "code",
   "execution_count": 10,
   "id": "25dec9e6",
   "metadata": {},
   "outputs": [],
   "source": [
    "from spacy import displacy"
   ]
  },
  {
   "cell_type": "code",
   "execution_count": 13,
   "id": "9efc90f8",
   "metadata": {},
   "outputs": [
    {
     "name": "stderr",
     "output_type": "stream",
     "text": [
      "/Users/jon/miniforge3/envs/anoi/lib/python3.9/site-packages/torch/autocast_mode.py:141: UserWarning: User provided device_type of 'cuda', but CUDA is not available. Disabling\n",
      "  warnings.warn('User provided device_type of \\'cuda\\', but CUDA is not available. Disabling')\n"
     ]
    }
   ],
   "source": [
    "readme_text = '\\n'.join(e.elem.text.replace('\\n', ' ') for e in walk_article(readme_struct) if e.elem.text is not None)\n",
    "readme_doc = nlp(readme_text)"
   ]
  },
  {
   "cell_type": "code",
   "execution_count": 14,
   "id": "bc16df83",
   "metadata": {},
   "outputs": [
    {
     "data": {
      "text/plain": [
       "1323"
      ]
     },
     "execution_count": 14,
     "metadata": {},
     "output_type": "execute_result"
    }
   ],
   "source": [
    "len(readme_doc)"
   ]
  },
  {
   "cell_type": "code",
   "execution_count": 15,
   "id": "751c7c81",
   "metadata": {},
   "outputs": [
    {
     "data": {
      "text/plain": [
       "[('A', 'a'), ('Network', 'Network'), ('of', 'of'), ('Ideas', 'Ideas')]"
      ]
     },
     "execution_count": 15,
     "metadata": {},
     "output_type": "execute_result"
    }
   ],
   "source": [
    "tok0 = readme_doc[0]\n",
    "tok1 = readme_doc[1]\n",
    "tok2 = readme_doc[2]\n",
    "tok3 = readme_doc[3]\n",
    "toks = tok0, tok1, tok2, tok3\n",
    "[(tok.text, tok.lemma_) for tok in toks]"
   ]
  },
  {
   "cell_type": "code",
   "execution_count": 16,
   "id": "53e18325",
   "metadata": {},
   "outputs": [
    {
     "data": {
      "text/plain": [
       "(69, A Network of Ideas)"
      ]
     },
     "execution_count": 16,
     "metadata": {},
     "output_type": "execute_result"
    }
   ],
   "source": [
    "readme_sents = list(readme_doc.sents)\n",
    "len(readme_sents), readme_sents[0]"
   ]
  },
  {
   "cell_type": "code",
   "execution_count": 17,
   "id": "167b5206",
   "metadata": {},
   "outputs": [
    {
     "data": {
      "text/html": [
       "<span class=\"tex2jax_ignore\"><svg xmlns=\"http://www.w3.org/2000/svg\" xmlns:xlink=\"http://www.w3.org/1999/xlink\" xml:lang=\"en\" id=\"67c7c8fed443425f92c487219b09d9a5-0\" class=\"displacy\" width=\"750\" height=\"224.5\" direction=\"ltr\" style=\"max-width: none; height: 224.5px; color: #000000; background: #ffffff; font-family: Arial; direction: ltr\">\n",
       "<text class=\"displacy-token\" fill=\"currentColor\" text-anchor=\"middle\" y=\"134.5\">\n",
       "    <tspan class=\"displacy-word\" fill=\"currentColor\" x=\"50\">A</tspan>\n",
       "    <tspan class=\"displacy-tag\" dy=\"2em\" fill=\"currentColor\" x=\"50\">DET</tspan>\n",
       "</text>\n",
       "\n",
       "<text class=\"displacy-token\" fill=\"currentColor\" text-anchor=\"middle\" y=\"134.5\">\n",
       "    <tspan class=\"displacy-word\" fill=\"currentColor\" x=\"225\">Network</tspan>\n",
       "    <tspan class=\"displacy-tag\" dy=\"2em\" fill=\"currentColor\" x=\"225\">PROPN</tspan>\n",
       "</text>\n",
       "\n",
       "<text class=\"displacy-token\" fill=\"currentColor\" text-anchor=\"middle\" y=\"134.5\">\n",
       "    <tspan class=\"displacy-word\" fill=\"currentColor\" x=\"400\">of</tspan>\n",
       "    <tspan class=\"displacy-tag\" dy=\"2em\" fill=\"currentColor\" x=\"400\">ADP</tspan>\n",
       "</text>\n",
       "\n",
       "<text class=\"displacy-token\" fill=\"currentColor\" text-anchor=\"middle\" y=\"134.5\">\n",
       "    <tspan class=\"displacy-word\" fill=\"currentColor\" x=\"575\">Ideas</tspan>\n",
       "    <tspan class=\"displacy-tag\" dy=\"2em\" fill=\"currentColor\" x=\"575\">PROPN</tspan>\n",
       "</text>\n",
       "\n",
       "<g class=\"displacy-arrow\">\n",
       "    <path class=\"displacy-arc\" id=\"arrow-67c7c8fed443425f92c487219b09d9a5-0-0\" stroke-width=\"2px\" d=\"M70,89.5 C70,2.0 225.0,2.0 225.0,89.5\" fill=\"none\" stroke=\"currentColor\"/>\n",
       "    <text dy=\"1.25em\" style=\"font-size: 0.8em; letter-spacing: 1px\">\n",
       "        <textPath xlink:href=\"#arrow-67c7c8fed443425f92c487219b09d9a5-0-0\" class=\"displacy-label\" startOffset=\"50%\" side=\"left\" fill=\"currentColor\" text-anchor=\"middle\">det</textPath>\n",
       "    </text>\n",
       "    <path class=\"displacy-arrowhead\" d=\"M70,91.5 L62,79.5 78,79.5\" fill=\"currentColor\"/>\n",
       "</g>\n",
       "\n",
       "<g class=\"displacy-arrow\">\n",
       "    <path class=\"displacy-arc\" id=\"arrow-67c7c8fed443425f92c487219b09d9a5-0-1\" stroke-width=\"2px\" d=\"M245,89.5 C245,2.0 400.0,2.0 400.0,89.5\" fill=\"none\" stroke=\"currentColor\"/>\n",
       "    <text dy=\"1.25em\" style=\"font-size: 0.8em; letter-spacing: 1px\">\n",
       "        <textPath xlink:href=\"#arrow-67c7c8fed443425f92c487219b09d9a5-0-1\" class=\"displacy-label\" startOffset=\"50%\" side=\"left\" fill=\"currentColor\" text-anchor=\"middle\">prep</textPath>\n",
       "    </text>\n",
       "    <path class=\"displacy-arrowhead\" d=\"M400.0,91.5 L408.0,79.5 392.0,79.5\" fill=\"currentColor\"/>\n",
       "</g>\n",
       "\n",
       "<g class=\"displacy-arrow\">\n",
       "    <path class=\"displacy-arc\" id=\"arrow-67c7c8fed443425f92c487219b09d9a5-0-2\" stroke-width=\"2px\" d=\"M420,89.5 C420,2.0 575.0,2.0 575.0,89.5\" fill=\"none\" stroke=\"currentColor\"/>\n",
       "    <text dy=\"1.25em\" style=\"font-size: 0.8em; letter-spacing: 1px\">\n",
       "        <textPath xlink:href=\"#arrow-67c7c8fed443425f92c487219b09d9a5-0-2\" class=\"displacy-label\" startOffset=\"50%\" side=\"left\" fill=\"currentColor\" text-anchor=\"middle\">pobj</textPath>\n",
       "    </text>\n",
       "    <path class=\"displacy-arrowhead\" d=\"M575.0,91.5 L583.0,79.5 567.0,79.5\" fill=\"currentColor\"/>\n",
       "</g>\n",
       "</svg></span>"
      ],
      "text/plain": [
       "<IPython.core.display.HTML object>"
      ]
     },
     "metadata": {},
     "output_type": "display_data"
    }
   ],
   "source": [
    "sent = readme_sents[0]\n",
    "displacy.render(sent, style='dep')"
   ]
  },
  {
   "cell_type": "code",
   "execution_count": 18,
   "id": "a05101cd",
   "metadata": {},
   "outputs": [
    {
     "name": "stdout",
     "output_type": "stream",
     "text": [
      "0 A a DET DT det X True True\n",
      "\n",
      "1 Network Network PROPN NNP ROOT Xxxxx True False\n",
      "\n",
      "2 of of ADP IN prep xx True True\n",
      "\n",
      "3 Ideas Ideas PROPN NNPS pobj Xxxxx True False\n",
      "\n"
     ]
    }
   ],
   "source": [
    "for index, token in enumerate(readme_sents[0]):\n",
    "    print(index, token.text, token.lemma_, token.pos_, token.tag_, token.dep_,\n",
    "            token.shape_, token.is_alpha, token.is_stop)\n",
    "    print()"
   ]
  },
  {
   "cell_type": "code",
   "execution_count": null,
   "id": "2a4dc597",
   "metadata": {},
   "outputs": [],
   "source": []
  }
 ],
 "metadata": {
  "kernelspec": {
   "display_name": "Python 3 (ipykernel)",
   "language": "python",
   "name": "python3"
  },
  "language_info": {
   "codemirror_mode": {
    "name": "ipython",
    "version": 3
   },
   "file_extension": ".py",
   "mimetype": "text/x-python",
   "name": "python",
   "nbconvert_exporter": "python",
   "pygments_lexer": "ipython3",
   "version": "3.9.7"
  }
 },
 "nbformat": 4,
 "nbformat_minor": 5
}
